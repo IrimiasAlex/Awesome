{
 "cells": [
  {
   "attachments": {},
   "cell_type": "markdown",
   "metadata": {},
   "source": [
    "Conn with database"
   ]
  },
  {
   "cell_type": "code",
   "execution_count": 1,
   "metadata": {},
   "outputs": [],
   "source": [
    "import sqlite3\n",
    "\n",
    "conn = sqlite3.connect(\"gis_ele_neplan_noduri.gpkg\")\n",
    "c = conn.cursor()\n"
   ]
  },
  {
   "attachments": {},
   "cell_type": "markdown",
   "metadata": {},
   "source": [
    "Upload data to a pandas dataframe"
   ]
  },
  {
   "cell_type": "code",
   "execution_count": 2,
   "metadata": {},
   "outputs": [],
   "source": [
    "import pandas as pd\n",
    "\n",
    "df = pd.read_sql_query(\"SELECT * from v_neplan_nodes_all\", conn)"
   ]
  },
  {
   "attachments": {},
   "cell_type": "markdown",
   "metadata": {},
   "source": [
    "A new dataframe with uniqueness on the node1 column"
   ]
  },
  {
   "cell_type": "code",
   "execution_count": 3,
   "metadata": {},
   "outputs": [],
   "source": [
    "df_cleaned = df.drop_duplicates(subset = ['node1'], keep = 'first')\n",
    "df_cleaned = df_cleaned.drop(columns=['geometry'])\n"
   ]
  },
  {
   "attachments": {},
   "cell_type": "markdown",
   "metadata": {},
   "source": [
    "For each row of the df_clean & set the attribute value according to the conditions"
   ]
  },
  {
   "cell_type": "code",
   "execution_count": 4,
   "metadata": {},
   "outputs": [],
   "source": [
    "for index, row in df_cleaned.iterrows():\n",
    "    node = row['node1']\n",
    "    xdm_fno = row['xdm_fno']\n",
    "    if xdm_fno in [313, 310, 304]:\n",
    "        df_cleaned.loc[index, 'attribute'] = 'HV'\n",
    "    elif xdm_fno in [314, 311, 305]:\n",
    "        df_cleaned.loc[index, 'attribute'] = 'MV'\n",
    "    else:\n",
    "        df_cleaned.loc[index, 'attribute'] = ''"
   ]
  },
  {
   "attachments": {},
   "cell_type": "markdown",
   "metadata": {},
   "source": [
    "Create a new table v_neplane....cleaned in database"
   ]
  },
  {
   "cell_type": "code",
   "execution_count": 5,
   "metadata": {},
   "outputs": [
    {
     "data": {
      "text/plain": [
       "15417"
      ]
     },
     "execution_count": 5,
     "metadata": {},
     "output_type": "execute_result"
    }
   ],
   "source": [
    "c.execute('''CREATE TABLE IF NOT EXISTS v_neplan_nodes_cleaned\n",
    "            (fid INTEGER PRIMARY KEY,\n",
    "            xdm_fid INTEGER,\n",
    "            xdm_fno INTEGER,\n",
    "            node1 TEXT,\n",
    "            attribute TEXT)''')\n",
    "\n",
    "df_cleaned.to_sql('v_neplan_nodes_cleaned', conn, if_exists='replace', index=False)"
   ]
  },
  {
   "attachments": {},
   "cell_type": "markdown",
   "metadata": {},
   "source": [
    "Counter"
   ]
  },
  {
   "cell_type": "code",
   "execution_count": 6,
   "metadata": {},
   "outputs": [],
   "source": [
    "from collections import Counter\n",
    "\n",
    "counter = Counter()\n",
    "for index, row in df_cleaned.iterrows():\n",
    "    counter[row['node1']] += 1\n"
   ]
  }
 ],
 "metadata": {
  "kernelspec": {
   "display_name": "base",
   "language": "python",
   "name": "python3"
  },
  "language_info": {
   "codemirror_mode": {
    "name": "ipython",
    "version": 3
   },
   "file_extension": ".py",
   "mimetype": "text/x-python",
   "name": "python",
   "nbconvert_exporter": "python",
   "pygments_lexer": "ipython3",
   "version": "3.11.2"
  },
  "orig_nbformat": 4
 },
 "nbformat": 4,
 "nbformat_minor": 2
}
